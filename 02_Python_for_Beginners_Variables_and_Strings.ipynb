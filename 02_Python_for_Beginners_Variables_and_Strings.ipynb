{
  "cells": [
    {
      "cell_type": "markdown",
      "id": "3ed071c3",
      "metadata": {
        "id": "3ed071c3"
      },
      "source": [
        "### Task 1\n",
        "What is a variable?"
      ]
    },
    {
      "cell_type": "markdown",
      "id": "98f6381f",
      "metadata": {
        "id": "98f6381f"
      },
      "source": [
        "### Python Variable Types:\n",
        "- Numeric\n",
        "    - integer\n",
        "    - float\n",
        "- String"
      ]
    },
    {
      "cell_type": "markdown",
      "id": "be5a0b94",
      "metadata": {
        "id": "be5a0b94"
      },
      "source": [
        "\n",
        " ### Numeric Variables\n",
        " Let's declare a variable with a *integer* value"
      ]
    },
    {
      "cell_type": "code",
      "execution_count": 2,
      "id": "a13f96b1",
      "metadata": {
        "id": "a13f96b1",
        "colab": {
          "base_uri": "https://localhost:8080/"
        },
        "outputId": "37a74a9a-4ce0-4dc2-e68c-4c6f98d01b35"
      },
      "outputs": [
        {
          "output_type": "execute_result",
          "data": {
            "text/plain": [
              "5"
            ]
          },
          "metadata": {},
          "execution_count": 2
        }
      ],
      "source": [
        "numeric_variable = 5\n",
        "numeric_variable"
      ]
    },
    {
      "cell_type": "markdown",
      "id": "f5972e2c",
      "metadata": {
        "id": "f5972e2c"
      },
      "source": [
        "Let's create a `Width` and `Height` variables to store Width and Height of a rectangle  "
      ]
    },
    {
      "cell_type": "code",
      "execution_count": 3,
      "id": "e825351b",
      "metadata": {
        "id": "e825351b"
      },
      "outputs": [],
      "source": [
        "Width = 2\n",
        "Height = 5"
      ]
    },
    {
      "cell_type": "markdown",
      "id": "6dd557e1",
      "metadata": {
        "id": "6dd557e1"
      },
      "source": [
        "Let's calculate the area of the rectangle"
      ]
    },
    {
      "cell_type": "code",
      "source": [
        "area = Width * Height\n"
      ],
      "metadata": {
        "id": "dRc6HisRhOR-"
      },
      "id": "dRc6HisRhOR-",
      "execution_count": 7,
      "outputs": []
    },
    {
      "cell_type": "markdown",
      "id": "1fdb4dd2",
      "metadata": {
        "id": "1fdb4dd2"
      },
      "source": [
        "Now let's calculate the area of the circle"
      ]
    },
    {
      "cell_type": "code",
      "execution_count": 6,
      "id": "462b1b2b",
      "metadata": {
        "id": "462b1b2b",
        "colab": {
          "base_uri": "https://localhost:8080/"
        },
        "outputId": "922d09cd-4436-4e19-b6c0-3f6f6539a2e9"
      },
      "outputs": [
        {
          "output_type": "execute_result",
          "data": {
            "text/plain": [
              "10"
            ]
          },
          "metadata": {},
          "execution_count": 6
        }
      ],
      "source": [
        "area"
      ]
    },
    {
      "cell_type": "markdown",
      "id": "af87fa8f",
      "metadata": {
        "id": "af87fa8f"
      },
      "source": [
        "### Task 2\n",
        "### String Variables\n",
        "Let's declare a variable with string value"
      ]
    },
    {
      "cell_type": "code",
      "execution_count": 8,
      "id": "b4945d59",
      "metadata": {
        "id": "b4945d59"
      },
      "outputs": [],
      "source": [
        "string_variable = \"Hello, swettie\""
      ]
    },
    {
      "cell_type": "markdown",
      "id": "cd858817",
      "metadata": {
        "id": "cd858817"
      },
      "source": [
        "Concatenate two strings"
      ]
    },
    {
      "cell_type": "code",
      "execution_count": 12,
      "id": "4ba6979c",
      "metadata": {
        "id": "4ba6979c",
        "colab": {
          "base_uri": "https://localhost:8080/",
          "height": 35
        },
        "outputId": "9dbdd7c9-a753-4c69-cbd5-a7fff1696817"
      },
      "outputs": [
        {
          "output_type": "execute_result",
          "data": {
            "text/plain": [
              "'I love You'"
            ],
            "application/vnd.google.colaboratory.intrinsic+json": {
              "type": "string"
            }
          },
          "metadata": {},
          "execution_count": 12
        }
      ],
      "source": [
        "first_string = \"I love\"\n",
        "second_variable = \" You\"\n",
        "first_string + second_variable"
      ]
    },
    {
      "cell_type": "markdown",
      "id": "826372f8",
      "metadata": {
        "id": "826372f8"
      },
      "source": [
        "Exercise: Store your first and lastname in two variables. Concatenate them with a space in between and print the result."
      ]
    },
    {
      "cell_type": "code",
      "execution_count": 13,
      "id": "081112c3",
      "metadata": {
        "id": "081112c3",
        "colab": {
          "base_uri": "https://localhost:8080/",
          "height": 35
        },
        "outputId": "ea1606ad-d033-40db-94b3-10e19952eb11"
      },
      "outputs": [
        {
          "output_type": "execute_result",
          "data": {
            "text/plain": [
              "\"Husam Sa'deh\""
            ],
            "application/vnd.google.colaboratory.intrinsic+json": {
              "type": "string"
            }
          },
          "metadata": {},
          "execution_count": 13
        }
      ],
      "source": [
        "first_name = \"Husam \"\n",
        "second_name = \"Sa'deh\"\n",
        "first_name + second_name"
      ]
    },
    {
      "cell_type": "markdown",
      "id": "fdcc8bea",
      "metadata": {
        "id": "fdcc8bea"
      },
      "source": [
        "Repeating a string"
      ]
    },
    {
      "cell_type": "code",
      "execution_count": 14,
      "id": "14dc0085",
      "metadata": {
        "id": "14dc0085",
        "colab": {
          "base_uri": "https://localhost:8080/",
          "height": 35
        },
        "outputId": "0ce24a43-594c-4903-9e6b-bbe1cff430ec"
      },
      "outputs": [
        {
          "output_type": "execute_result",
          "data": {
            "text/plain": [
              "'Husam Husam '"
            ],
            "application/vnd.google.colaboratory.intrinsic+json": {
              "type": "string"
            }
          },
          "metadata": {},
          "execution_count": 14
        }
      ],
      "source": [
        "first_name * 2"
      ]
    },
    {
      "cell_type": "markdown",
      "id": "90ad2365",
      "metadata": {
        "id": "90ad2365"
      },
      "source": [
        "Get the length of a string"
      ]
    },
    {
      "cell_type": "code",
      "execution_count": 15,
      "id": "c6c3e7b3",
      "metadata": {
        "id": "c6c3e7b3",
        "colab": {
          "base_uri": "https://localhost:8080/"
        },
        "outputId": "54d498c8-d328-4c2b-b0f5-3ac30cf2cfb6"
      },
      "outputs": [
        {
          "output_type": "execute_result",
          "data": {
            "text/plain": [
              "6"
            ]
          },
          "metadata": {},
          "execution_count": 15
        }
      ],
      "source": [
        "len(first_string)"
      ]
    },
    {
      "cell_type": "markdown",
      "id": "93d05358",
      "metadata": {
        "id": "93d05358"
      },
      "source": [
        "Checking the *first* character of the sentence"
      ]
    },
    {
      "cell_type": "code",
      "execution_count": 20,
      "id": "4c701e87",
      "metadata": {
        "id": "4c701e87",
        "colab": {
          "base_uri": "https://localhost:8080/",
          "height": 35
        },
        "outputId": "ee00c709-eb1b-4fd0-cb32-3ce50be2c177"
      },
      "outputs": [
        {
          "output_type": "execute_result",
          "data": {
            "text/plain": [
              "'K'"
            ],
            "application/vnd.google.colaboratory.intrinsic+json": {
              "type": "string"
            }
          },
          "metadata": {},
          "execution_count": 20
        }
      ],
      "source": [
        "sentence = \"Knowledge is Power\"\n",
        "sentence[0]"
      ]
    },
    {
      "cell_type": "markdown",
      "id": "93127357",
      "metadata": {
        "id": "93127357"
      },
      "source": [
        "Checking the *last* character of the sentence"
      ]
    },
    {
      "cell_type": "code",
      "execution_count": 21,
      "id": "5b618147",
      "metadata": {
        "id": "5b618147",
        "colab": {
          "base_uri": "https://localhost:8080/",
          "height": 35
        },
        "outputId": "57949440-cbb2-4c5d-bc41-7b1d77ab264c"
      },
      "outputs": [
        {
          "output_type": "execute_result",
          "data": {
            "text/plain": [
              "'r'"
            ],
            "application/vnd.google.colaboratory.intrinsic+json": {
              "type": "string"
            }
          },
          "metadata": {},
          "execution_count": 21
        }
      ],
      "source": [
        "sentence[-1]"
      ]
    },
    {
      "cell_type": "markdown",
      "id": "f440adec",
      "metadata": {
        "id": "f440adec"
      },
      "source": [
        "Checking the first four characters of the sentence"
      ]
    },
    {
      "cell_type": "code",
      "execution_count": 24,
      "id": "9f67642e",
      "metadata": {
        "id": "9f67642e",
        "colab": {
          "base_uri": "https://localhost:8080/",
          "height": 35
        },
        "outputId": "d174821f-654c-425e-81c3-d8f90d1040c7"
      },
      "outputs": [
        {
          "output_type": "execute_result",
          "data": {
            "text/plain": [
              "'Know'"
            ],
            "application/vnd.google.colaboratory.intrinsic+json": {
              "type": "string"
            }
          },
          "metadata": {},
          "execution_count": 24
        }
      ],
      "source": [
        "sentence[:4]"
      ]
    },
    {
      "cell_type": "markdown",
      "id": "44cd414b",
      "metadata": {
        "id": "44cd414b"
      },
      "source": [
        "Checking the last ten characters of the sentence"
      ]
    },
    {
      "cell_type": "code",
      "execution_count": 25,
      "id": "5bb6eeae",
      "metadata": {
        "id": "5bb6eeae",
        "colab": {
          "base_uri": "https://localhost:8080/",
          "height": 35
        },
        "outputId": "bd3382ca-86cd-4a4c-d0e7-d79ed124c0b3"
      },
      "outputs": [
        {
          "output_type": "execute_result",
          "data": {
            "text/plain": [
              "'e is Power'"
            ],
            "application/vnd.google.colaboratory.intrinsic+json": {
              "type": "string"
            }
          },
          "metadata": {},
          "execution_count": 25
        }
      ],
      "source": [
        "sentence[-10:]"
      ]
    },
    {
      "cell_type": "markdown",
      "id": "ffdda716",
      "metadata": {
        "id": "ffdda716"
      },
      "source": [
        "Check if a string contains another string"
      ]
    },
    {
      "cell_type": "code",
      "execution_count": 27,
      "id": "06d87681",
      "metadata": {
        "id": "06d87681",
        "colab": {
          "base_uri": "https://localhost:8080/"
        },
        "outputId": "242e75cb-1faa-4f82-854d-dc80be3f9fdc"
      },
      "outputs": [
        {
          "output_type": "stream",
          "name": "stdout",
          "text": [
            "String2 contains String1\n"
          ]
        }
      ],
      "source": [
        "string1 = \"Hello, World!\"\n",
        "string2 = \"Hello\"\n",
        "\n",
        "if string2 in string1:\n",
        "    print(\"String2 contains String1\")\n",
        "else:\n",
        "    print(\"String2 does not contain String1\")"
      ]
    },
    {
      "cell_type": "markdown",
      "id": "2f6ee743",
      "metadata": {
        "id": "2f6ee743"
      },
      "source": [
        "### Task 3\n",
        "Built-in String Methods\n",
        "Python provides a number of built-in methods for manipulating strings. Some of the most commonly used methods are:\n",
        "\n",
        "- `lower(): returns the string in lowercase`\n",
        "- `upper(): returns the string in uppercase`\n",
        "- `capitalize(): returns the string with the first character capitalized`\n",
        "- `count(substring): returns the number of occurrences of the substring in the string`\n",
        "- `replace(old, new): returns a new string with all occurrences of old replaced with new`\n",
        "- `strip(): returns a new string with leading and trailing whitespaces removed`\n",
        "- `split(delimiter): returns a list of substrings separated by the delimiter`"
      ]
    },
    {
      "cell_type": "code",
      "execution_count": 36,
      "id": "6fefd708",
      "metadata": {
        "id": "6fefd708",
        "colab": {
          "base_uri": "https://localhost:8080/"
        },
        "outputId": "a3bae655-0f83-458c-f184-eb8b9b9b080c"
      },
      "outputs": [
        {
          "output_type": "stream",
          "name": "stdout",
          "text": [
            "the Cat is Sleeping. The Dog is Barking and the sky is blue. \n"
          ]
        }
      ],
      "source": [
        "sentence1 = \"the Cat is Sleeping. The Dog is Barking and the sky is blue. \"\n",
        "print(sentence1)"
      ]
    },
    {
      "cell_type": "markdown",
      "id": "37fe39f5",
      "metadata": {
        "id": "37fe39f5"
      },
      "source": [
        "Convert a string to uppercase"
      ]
    },
    {
      "cell_type": "code",
      "execution_count": 30,
      "id": "8316249c",
      "metadata": {
        "id": "8316249c",
        "colab": {
          "base_uri": "https://localhost:8080/",
          "height": 35
        },
        "outputId": "48e1d2d6-d8ab-4871-846d-5caabde52f8f"
      },
      "outputs": [
        {
          "output_type": "execute_result",
          "data": {
            "text/plain": [
              "' THE CAT IS SLEEPING. THE DOG IS BARKING AND THE SKY IS BLUE. '"
            ],
            "application/vnd.google.colaboratory.intrinsic+json": {
              "type": "string"
            }
          },
          "metadata": {},
          "execution_count": 30
        }
      ],
      "source": [
        "sentence1.upper()"
      ]
    },
    {
      "cell_type": "markdown",
      "id": "fe17af5c",
      "metadata": {
        "id": "fe17af5c"
      },
      "source": [
        "Convert a string to lowercase"
      ]
    },
    {
      "cell_type": "code",
      "execution_count": 31,
      "id": "e6c6c13b",
      "metadata": {
        "id": "e6c6c13b",
        "colab": {
          "base_uri": "https://localhost:8080/",
          "height": 35
        },
        "outputId": "04fa175b-5da0-4dda-edc8-4e6552b85640"
      },
      "outputs": [
        {
          "output_type": "execute_result",
          "data": {
            "text/plain": [
              "' the cat is sleeping. the dog is barking and the sky is blue. '"
            ],
            "application/vnd.google.colaboratory.intrinsic+json": {
              "type": "string"
            }
          },
          "metadata": {},
          "execution_count": 31
        }
      ],
      "source": [
        "sentence1.lower()"
      ]
    },
    {
      "cell_type": "markdown",
      "id": "5471f67b",
      "metadata": {
        "id": "5471f67b"
      },
      "source": [
        "Capitalize the first character"
      ]
    },
    {
      "cell_type": "code",
      "execution_count": 37,
      "id": "db0cd5a4",
      "metadata": {
        "id": "db0cd5a4",
        "colab": {
          "base_uri": "https://localhost:8080/",
          "height": 35
        },
        "outputId": "4e6ac1e6-224c-4e39-e050-07be8c558041"
      },
      "outputs": [
        {
          "output_type": "execute_result",
          "data": {
            "text/plain": [
              "'The cat is sleeping. the dog is barking and the sky is blue. '"
            ],
            "application/vnd.google.colaboratory.intrinsic+json": {
              "type": "string"
            }
          },
          "metadata": {},
          "execution_count": 37
        }
      ],
      "source": [
        "sentence1.capitalize()"
      ]
    },
    {
      "cell_type": "markdown",
      "id": "73ca50b7",
      "metadata": {
        "id": "73ca50b7"
      },
      "source": [
        "Counting the number of occurrences of a the substring 'is'"
      ]
    },
    {
      "cell_type": "code",
      "execution_count": 39,
      "id": "499cae4d",
      "metadata": {
        "id": "499cae4d",
        "colab": {
          "base_uri": "https://localhost:8080/"
        },
        "outputId": "20bc3bd8-eebc-4920-cf74-c43905b587e5"
      },
      "outputs": [
        {
          "output_type": "execute_result",
          "data": {
            "text/plain": [
              "3"
            ]
          },
          "metadata": {},
          "execution_count": 39
        }
      ],
      "source": [
        "sentence1.count(\"is\")"
      ]
    },
    {
      "cell_type": "markdown",
      "id": "bbc61105",
      "metadata": {
        "id": "bbc61105"
      },
      "source": [
        "Removing the leading and trailing"
      ]
    },
    {
      "cell_type": "code",
      "execution_count": 43,
      "id": "47cd79cc",
      "metadata": {
        "id": "47cd79cc",
        "colab": {
          "base_uri": "https://localhost:8080/",
          "height": 35
        },
        "outputId": "727e9591-d398-494a-f932-c9d6192c81ee"
      },
      "outputs": [
        {
          "output_type": "execute_result",
          "data": {
            "text/plain": [
              "'the Cat is Sleeping. The Dog is Barking and the sky is blue.'"
            ],
            "application/vnd.google.colaboratory.intrinsic+json": {
              "type": "string"
            }
          },
          "metadata": {},
          "execution_count": 43
        }
      ],
      "source": [
        "sentence1.strip()"
      ]
    },
    {
      "cell_type": "markdown",
      "id": "d2d48942",
      "metadata": {
        "id": "d2d48942"
      },
      "source": [
        "Check the first word of the sentence"
      ]
    },
    {
      "cell_type": "code",
      "execution_count": 41,
      "id": "fe058573",
      "metadata": {
        "id": "fe058573",
        "colab": {
          "base_uri": "https://localhost:8080/",
          "height": 35
        },
        "outputId": "e7518311-90e7-4cdd-ad2c-7eb3edf4dfbc"
      },
      "outputs": [
        {
          "output_type": "execute_result",
          "data": {
            "text/plain": [
              "'t'"
            ],
            "application/vnd.google.colaboratory.intrinsic+json": {
              "type": "string"
            }
          },
          "metadata": {},
          "execution_count": 41
        }
      ],
      "source": [
        "sentence1[0]"
      ]
    },
    {
      "cell_type": "markdown",
      "id": "24ffa5af",
      "metadata": {
        "id": "24ffa5af"
      },
      "source": [
        "Check the last word of the sentence"
      ]
    },
    {
      "cell_type": "code",
      "execution_count": 45,
      "id": "23b799e5",
      "metadata": {
        "id": "23b799e5",
        "colab": {
          "base_uri": "https://localhost:8080/",
          "height": 35
        },
        "outputId": "94a08223-a86f-45ee-842d-c656917eb1e2"
      },
      "outputs": [
        {
          "output_type": "execute_result",
          "data": {
            "text/plain": [
              "'.'"
            ],
            "application/vnd.google.colaboratory.intrinsic+json": {
              "type": "string"
            }
          },
          "metadata": {},
          "execution_count": 45
        }
      ],
      "source": [
        "sentence1.strip()[-1]"
      ]
    }
  ],
  "metadata": {
    "kernelspec": {
      "display_name": "Python 3",
      "language": "python",
      "name": "python3"
    },
    "language_info": {
      "codemirror_mode": {
        "name": "ipython",
        "version": 3
      },
      "file_extension": ".py",
      "mimetype": "text/x-python",
      "name": "python",
      "nbconvert_exporter": "python",
      "pygments_lexer": "ipython3",
      "version": "3.8.10"
    },
    "colab": {
      "provenance": []
    }
  },
  "nbformat": 4,
  "nbformat_minor": 5
}