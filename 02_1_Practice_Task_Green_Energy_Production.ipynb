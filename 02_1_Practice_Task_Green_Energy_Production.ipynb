{
  "cells": [
    {
      "cell_type": "markdown",
      "id": "92e7c522",
      "metadata": {
        "id": "92e7c522"
      },
      "source": [
        "# Practice Task: Green Energy Production\n",
        "In this task, you will work with a string representing green energy production data and use Python's built-in string methods to manipulate and transform the data.\n",
        "\n",
        "We have the following data on the green energy production:"
      ]
    },
    {
      "cell_type": "code",
      "execution_count": null,
      "id": "bfd6ad4c",
      "metadata": {
        "id": "bfd6ad4c"
      },
      "outputs": [],
      "source": [
        "data = \" wind:5.5, solar:3.2, hydro:8.9, bio:2.1 \""
      ]
    },
    {
      "cell_type": "markdown",
      "id": "87d1218d",
      "metadata": {
        "id": "87d1218d"
      },
      "source": [
        "Strip any leading or trailing whitespace from the string and print the result."
      ]
    },
    {
      "cell_type": "code",
      "execution_count": null,
      "id": "8fcb33de",
      "metadata": {
        "colab": {
          "base_uri": "https://localhost:8080/",
          "height": 35
        },
        "id": "8fcb33de",
        "outputId": "a8577f40-c7e6-499c-b0f1-d8c5572c75f1"
      },
      "outputs": [
        {
          "output_type": "execute_result",
          "data": {
            "text/plain": [
              "'wind:5.5, solar:3.2, hydro:8.9, bio:2.1'"
            ],
            "application/vnd.google.colaboratory.intrinsic+json": {
              "type": "string"
            }
          },
          "metadata": {},
          "execution_count": 9
        }
      ],
      "source": [
        "data = data.strip()\n",
        "data"
      ]
    },
    {
      "cell_type": "markdown",
      "id": "fbdcc39b",
      "metadata": {
        "id": "fbdcc39b"
      },
      "source": [
        "Extract the green energy types and production amounts and store them in two lists called `types` and `amounts`"
      ]
    },
    {
      "cell_type": "code",
      "execution_count": null,
      "id": "8d198e9c",
      "metadata": {
        "id": "8d198e9c",
        "colab": {
          "base_uri": "https://localhost:8080/"
        },
        "outputId": "6bf75414-b8cb-496b-cffb-4bbe48f95473"
      },
      "outputs": [
        {
          "output_type": "stream",
          "name": "stdout",
          "text": [
            "Types: ['wind', ' solar', ' hydro', ' bio']\n",
            "Amounts: ['5.5', '3.2', '8.9', '2.1']\n"
          ]
        }
      ],
      "source": [
        "# converting the string into a list\n",
        "items = data.split(\",\")\n",
        "\n",
        "# converting each element of the items list, into two element through a loop\n",
        "amounts = []\n",
        "types = []\n",
        "\n",
        "for item in items:\n",
        "    # split each item into type and amount\n",
        "    typ, am = item.split(\":\")\n",
        "\n",
        "    # append type and amount to their respective lists\n",
        "    amounts.append(am)\n",
        "    types.append(typ)\n",
        "\n",
        "# Output the extracted data (optional)\n",
        "print(\"Types:\", types)\n",
        "print(\"Amounts:\", amounts)\n"
      ]
    },
    {
      "cell_type": "markdown",
      "id": "70644c39",
      "metadata": {
        "id": "70644c39"
      },
      "source": [
        "Calculate the total energy production and print the result."
      ]
    },
    {
      "cell_type": "code",
      "execution_count": null,
      "id": "f2537b68",
      "metadata": {
        "colab": {
          "base_uri": "https://localhost:8080/"
        },
        "id": "f2537b68",
        "outputId": "54bfed37-0ed6-4284-ff6a-5ef7819861e1"
      },
      "outputs": [
        {
          "output_type": "stream",
          "name": "stdout",
          "text": [
            "Total Energy Production: 19.700000000000003\n"
          ]
        }
      ],
      "source": [
        "# converting the list into an array to make it float\n",
        "import numpy as np\n",
        "arr = np.array(amounts, dtype=float)\n",
        "\n",
        "# calculate total energy production\n",
        "total_production = np.sum(arr)\n",
        "\n",
        "# print the result\n",
        "print(\"Total Energy Production:\", total_production)"
      ]
    }
  ],
  "metadata": {
    "kernelspec": {
      "display_name": "Python 3",
      "language": "python",
      "name": "python3"
    },
    "language_info": {
      "codemirror_mode": {
        "name": "ipython",
        "version": 3
      },
      "file_extension": ".py",
      "mimetype": "text/x-python",
      "name": "python",
      "nbconvert_exporter": "python",
      "pygments_lexer": "ipython3",
      "version": "3.8.10"
    },
    "colab": {
      "provenance": []
    }
  },
  "nbformat": 4,
  "nbformat_minor": 5
}