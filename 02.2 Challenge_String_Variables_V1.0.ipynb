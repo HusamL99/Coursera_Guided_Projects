{
  "cells": [
    {
      "cell_type": "markdown",
      "id": "18fac2a2",
      "metadata": {
        "id": "18fac2a2"
      },
      "source": [
        "### Practice Task\n",
        "Given the given text:\n",
        "\n",
        "1. Find the number of occurrences of the word \"Python\" in the text.\n",
        "2. Replace the word \"interpreted\" with \"dynamic\" and store the result in a new variable `new_text`.\n",
        "3. Capitalize the first letter of each word in `text` and store the result in a new variable `capitalized_text`.\n",
        "4. Split the text into sentences and store the result in a list `sentences`. Each sentence should end with a period (.).\n"
      ]
    },
    {
      "cell_type": "code",
      "execution_count": null,
      "id": "42710e3a",
      "metadata": {
        "id": "42710e3a"
      },
      "outputs": [],
      "source": [
        "text = \"\"\"\n",
        "Python is a high-level programming language that is widely used for web development,\n",
        "scientific computing, data analysis, artificial intelligence, and more. Python is an interpreted language,\n",
        "meaning that the source code is executed line by line rather than compiled into machine code.\n",
        "Python is known for its simplicity, readability, and flexibility,\n",
        "making it a great choice for both beginners and experienced programmers.\n",
        "\"\"\""
      ]
    },
    {
      "cell_type": "code",
      "execution_count": null,
      "id": "ed1f57a1",
      "metadata": {
        "colab": {
          "base_uri": "https://localhost:8080/"
        },
        "id": "ed1f57a1",
        "outputId": "7581d7b9-adf0-40b2-d8b9-e743fe335539"
      },
      "outputs": [
        {
          "output_type": "execute_result",
          "data": {
            "text/plain": [
              "3"
            ]
          },
          "metadata": {},
          "execution_count": 4
        }
      ],
      "source": [
        "occurrences = text.count(\"Python\")\n",
        "occurrences\n"
      ]
    },
    {
      "cell_type": "code",
      "execution_count": null,
      "id": "01ba118b",
      "metadata": {
        "colab": {
          "base_uri": "https://localhost:8080/",
          "height": 70
        },
        "id": "01ba118b",
        "outputId": "af11b31e-085d-4acb-c140-00b3d607c854"
      },
      "outputs": [
        {
          "output_type": "execute_result",
          "data": {
            "text/plain": [
              "'Python is a high-level programming language that is widely used for web development,scientific computing, data analysis, artificial intelligence, and more. Python is an dynamic language,meaning that the source code is executed line by line rather than compiled into machine code.Python is known for its simplicity, readability, and flexibility, making it a great choice for both beginners and experienced programmers.'"
            ],
            "application/vnd.google.colaboratory.intrinsic+json": {
              "type": "string"
            }
          },
          "metadata": {},
          "execution_count": 6
        }
      ],
      "source": [
        "new_text = text.replace(\"interpreted\", \"dynamic\")\n",
        "new_text = new_text.replace(\"\\n\", \"\")\n",
        "new_text"
      ]
    },
    {
      "cell_type": "code",
      "source": [
        "capitalized_text = new_text.title()\n",
        "capitalized_text"
      ],
      "metadata": {
        "colab": {
          "base_uri": "https://localhost:8080/",
          "height": 70
        },
        "id": "F4sYzS0GLQZn",
        "outputId": "cbc4aa20-35e7-45bc-f0a7-b886bb00e96e"
      },
      "id": "F4sYzS0GLQZn",
      "execution_count": null,
      "outputs": [
        {
          "output_type": "execute_result",
          "data": {
            "text/plain": [
              "'Python Is A High-Level Programming Language That Is Widely Used For Web Development,Scientific Computing, Data Analysis, Artificial Intelligence, And More. Python Is An Dynamic Language,Meaning That The Source Code Is Executed Line By Line Rather Than Compiled Into Machine Code.Python Is Known For Its Simplicity, Readability, And Flexibility, Making It A Great Choice For Both Beginners And Experienced Programmers.'"
            ],
            "application/vnd.google.colaboratory.intrinsic+json": {
              "type": "string"
            }
          },
          "metadata": {},
          "execution_count": 10
        }
      ]
    },
    {
      "cell_type": "code",
      "source": [
        "sentences = new_text.split(\".\")\n",
        "sentences\n",
        "\n",
        "# Add the period back to each sentence\n",
        "sentences = [sentence + \".\" for sentence in sentences]\n",
        "sentences"
      ],
      "metadata": {
        "colab": {
          "base_uri": "https://localhost:8080/"
        },
        "id": "CLBvwQksMBDw",
        "outputId": "0642f7b5-3d41-466d-c365-75175d4476bc"
      },
      "id": "CLBvwQksMBDw",
      "execution_count": null,
      "outputs": [
        {
          "output_type": "execute_result",
          "data": {
            "text/plain": [
              "['Python is a high-level programming language that is widely used for web development,scientific computing, data analysis, artificial intelligence, and more.',\n",
              " ' Python is an dynamic language,meaning that the source code is executed line by line rather than compiled into machine code.',\n",
              " 'Python is known for its simplicity, readability, and flexibility, making it a great choice for both beginners and experienced programmers.',\n",
              " '.']"
            ]
          },
          "metadata": {},
          "execution_count": 15
        }
      ]
    }
  ],
  "metadata": {
    "kernelspec": {
      "display_name": "Python 3",
      "language": "python",
      "name": "python3"
    },
    "language_info": {
      "codemirror_mode": {
        "name": "ipython",
        "version": 3
      },
      "file_extension": ".py",
      "mimetype": "text/x-python",
      "name": "python",
      "nbconvert_exporter": "python",
      "pygments_lexer": "ipython3",
      "version": "3.8.10"
    },
    "colab": {
      "provenance": []
    }
  },
  "nbformat": 4,
  "nbformat_minor": 5
}
